{
 "cells": [
  {
   "cell_type": "code",
   "execution_count": 1,
   "id": "15523975-d949-4f09-9a38-f338d2f0da8a",
   "metadata": {},
   "outputs": [],
   "source": [
    "from google.cloud import translate_v2"
   ]
  },
  {
   "cell_type": "code",
   "execution_count": 4,
   "id": "6b815ae6-e49a-474a-866f-26218307d779",
   "metadata": {},
   "outputs": [
    {
     "name": "stdout",
     "output_type": "stream",
     "text": [
      "Text: Hello my name is Amelie\n",
      "Translation: Bonjour, je m&#39;appelle Amélie\n",
      "Detected source language: en\n"
     ]
    },
    {
     "data": {
      "text/plain": [
       "{'translatedText': 'Bonjour, je m&#39;appelle Amélie',\n",
       " 'detectedSourceLanguage': 'en',\n",
       " 'input': 'Hello my name is Amelie'}"
      ]
     },
     "execution_count": 4,
     "metadata": {},
     "output_type": "execute_result"
    }
   ],
   "source": [
    "from google.cloud import translate_v2 as translate\n",
    "\n",
    "translate_client = translate.Client()\n",
    "\n",
    "text = \"Hello my name is Amelie\"\n",
    "target= \"fr\"\n",
    "\n",
    "if isinstance(text, bytes):\n",
    "    text = text.decode(\"utf-8\")\n",
    "\n",
    "\n",
    "# Text can also be a sequence of strings, in which case this method\n",
    "# will return a sequence of results for each text.\n",
    "result = translate_client.translate(text, target_language=target)\n",
    "\n",
    "print(\"Text: {}\".format(result[\"input\"]))\n",
    "print(\"Translation: {}\".format(result[\"translatedText\"]))\n",
    "print(\"Detected source language: {}\".format(result[\"detectedSourceLanguage\"]))\n",
    "\n",
    "result"
   ]
  },
  {
   "cell_type": "code",
   "execution_count": null,
   "id": "b202cfbf-840e-4a1c-aa9e-4a94ebe81bb7",
   "metadata": {},
   "outputs": [],
   "source": []
  }
 ],
 "metadata": {
  "environment": {
   "kernel": "conda-root-py",
   "name": "workbench-notebooks.m111",
   "type": "gcloud",
   "uri": "gcr.io/deeplearning-platform-release/workbench-notebooks:m111"
  },
  "kernelspec": {
   "display_name": "Python 3",
   "language": "python",
   "name": "conda-root-py"
  },
  "language_info": {
   "codemirror_mode": {
    "name": "ipython",
    "version": 3
   },
   "file_extension": ".py",
   "mimetype": "text/x-python",
   "name": "python",
   "nbconvert_exporter": "python",
   "pygments_lexer": "ipython3",
   "version": "3.10.12"
  }
 },
 "nbformat": 4,
 "nbformat_minor": 5
}
